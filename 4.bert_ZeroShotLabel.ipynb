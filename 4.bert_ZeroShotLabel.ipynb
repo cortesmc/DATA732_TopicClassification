{
 "cells": [
  {
   "cell_type": "markdown",
   "metadata": {},
   "source": [
    "# Projet DATA732\n",
    "## Label Assignation with DeBerta Model\n",
    "Labelisation "
   ]
  },
  {
   "cell_type": "code",
   "execution_count": 1,
   "metadata": {},
   "outputs": [
    {
     "name": "stdout",
     "output_type": "stream",
     "text": [
      "WARNING:tensorflow:From c:\\Users\\Carlos Andres Cortes\\anaconda3\\Lib\\site-packages\\keras\\src\\losses.py:2976: The name tf.losses.sparse_softmax_cross_entropy is deprecated. Please use tf.compat.v1.losses.sparse_softmax_cross_entropy instead.\n",
      "\n"
     ]
    },
    {
     "data": {
      "text/html": [
       "<style>\n",
       "        .bk-notebook-logo {\n",
       "            display: block;\n",
       "            width: 20px;\n",
       "            height: 20px;\n",
       "            background-image: url(data:image/png;base64,iVBORw0KGgoAAAANSUhEUgAAABQAAAAUCAYAAACNiR0NAAAABHNCSVQICAgIfAhkiAAAAAlwSFlzAAALEgAACxIB0t1+/AAAABx0RVh0U29mdHdhcmUAQWRvYmUgRmlyZXdvcmtzIENTNui8sowAAAOkSURBVDiNjZRtaJVlGMd/1/08zzln5zjP1LWcU9N0NkN8m2CYjpgQYQXqSs0I84OLIC0hkEKoPtiH3gmKoiJDU7QpLgoLjLIQCpEsNJ1vqUOdO7ppbuec5+V+rj4ctwzd8IIbbi6u+8f1539dt3A78eXC7QizUF7gyV1fD1Yqg4JWz84yffhm0qkFqBogB9rM8tZdtwVsPUhWhGcFJngGeWrPzHm5oaMmkfEg1usvLFyc8jLRqDOMru7AyC8saQr7GG7f5fvDeH7Ej8CM66nIF+8yngt6HWaKh7k49Soy9nXurCi1o3qUbS3zWfrYeQDTB/Qj6kX6Ybhw4B+bOYoLKCC9H3Nu/leUTZ1JdRWkkn2ldcCamzrcf47KKXdAJllSlxAOkRgyHsGC/zRday5Qld9DyoM4/q/rUoy/CXh3jzOu3bHUVZeU+DEn8FInkPBFlu3+nW3Nw0mk6vCDiWg8CeJaxEwuHS3+z5RgY+YBR6V1Z1nxSOfoaPa4LASWxxdNp+VWTk7+4vzaou8v8PN+xo+KY2xsw6une2frhw05CTYOmQvsEhjhWjn0bmXPjpE1+kplmmkP3suftwTubK9Vq22qKmrBhpY4jvd5afdRA3wGjFAgcnTK2s4hY0/GPNIb0nErGMCRxWOOX64Z8RAC4oCXdklmEvcL8o0BfkNK4lUg9HTl+oPlQxdNo3Mg4Nv175e/1LDGzZen30MEjRUtmXSfiTVu1kK8W4txyV6BMKlbgk3lMwYCiusNy9fVfvvwMxv8Ynl6vxoByANLTWplvuj/nF9m2+PDtt1eiHPBr1oIfhCChQMBw6Aw0UulqTKZdfVvfG7VcfIqLG9bcldL/+pdWTLxLUy8Qq38heUIjh4XlzZxzQm19lLFlr8vdQ97rjZVOLf8nclzckbcD4wxXMidpX30sFd37Fv/GtwwhzhxGVAprjbg0gCAEeIgwCZyTV2Z1REEW8O4py0wsjeloKoMr6iCY6dP92H6Vw/oTyICIthibxjm/DfN9lVz8IqtqKYLUXfoKVMVQVVJOElGjrnnUt9T9wbgp8AyYKaGlqingHZU/uG2NTZSVqwHQTWkx9hxjkpWDaCg6Ckj5qebgBVbT3V3NNXMSiWSDdGV3hrtzla7J+duwPOToIg42ChPQOQjspnSlp1V+Gjdged7+8UN5CRAV7a5EdFNwCjEaBR27b3W890TE7g24NAP/mMDXRWrGoFPQI9ls/MWO2dWFAar/xcOIImbbpA3zgAAAABJRU5ErkJggg==);\n",
       "        }\n",
       "    </style>\n",
       "    <div>\n",
       "        <a href=\"https://bokeh.org\" target=\"_blank\" class=\"bk-notebook-logo\"></a>\n",
       "        <span id=\"d9c9d6e9-7870-4ee2-9082-963c70069346\">Loading BokehJS ...</span>\n",
       "    </div>\n"
      ]
     },
     "metadata": {},
     "output_type": "display_data"
    },
    {
     "data": {
      "application/javascript": "(function(root) {\n  function now() {\n    return new Date();\n  }\n\n  const force = true;\n\n  if (typeof root._bokeh_onload_callbacks === \"undefined\" || force === true) {\n    root._bokeh_onload_callbacks = [];\n    root._bokeh_is_loading = undefined;\n  }\n\nconst JS_MIME_TYPE = 'application/javascript';\n  const HTML_MIME_TYPE = 'text/html';\n  const EXEC_MIME_TYPE = 'application/vnd.bokehjs_exec.v0+json';\n  const CLASS_NAME = 'output_bokeh rendered_html';\n\n  /**\n   * Render data to the DOM node\n   */\n  function render(props, node) {\n    const script = document.createElement(\"script\");\n    node.appendChild(script);\n  }\n\n  /**\n   * Handle when an output is cleared or removed\n   */\n  function handleClearOutput(event, handle) {\n    const cell = handle.cell;\n\n    const id = cell.output_area._bokeh_element_id;\n    const server_id = cell.output_area._bokeh_server_id;\n    // Clean up Bokeh references\n    if (id != null && id in Bokeh.index) {\n      Bokeh.index[id].model.document.clear();\n      delete Bokeh.index[id];\n    }\n\n    if (server_id !== undefined) {\n      // Clean up Bokeh references\n      const cmd_clean = \"from bokeh.io.state import curstate; print(curstate().uuid_to_server['\" + server_id + \"'].get_sessions()[0].document.roots[0]._id)\";\n      cell.notebook.kernel.execute(cmd_clean, {\n        iopub: {\n          output: function(msg) {\n            const id = msg.content.text.trim();\n            if (id in Bokeh.index) {\n              Bokeh.index[id].model.document.clear();\n              delete Bokeh.index[id];\n            }\n          }\n        }\n      });\n      // Destroy server and session\n      const cmd_destroy = \"import bokeh.io.notebook as ion; ion.destroy_server('\" + server_id + \"')\";\n      cell.notebook.kernel.execute(cmd_destroy);\n    }\n  }\n\n  /**\n   * Handle when a new output is added\n   */\n  function handleAddOutput(event, handle) {\n    const output_area = handle.output_area;\n    const output = handle.output;\n\n    // limit handleAddOutput to display_data with EXEC_MIME_TYPE content only\n    if ((output.output_type != \"display_data\") || (!Object.prototype.hasOwnProperty.call(output.data, EXEC_MIME_TYPE))) {\n      return\n    }\n\n    const toinsert = output_area.element.find(\".\" + CLASS_NAME.split(' ')[0]);\n\n    if (output.metadata[EXEC_MIME_TYPE][\"id\"] !== undefined) {\n      toinsert[toinsert.length - 1].firstChild.textContent = output.data[JS_MIME_TYPE];\n      // store reference to embed id on output_area\n      output_area._bokeh_element_id = output.metadata[EXEC_MIME_TYPE][\"id\"];\n    }\n    if (output.metadata[EXEC_MIME_TYPE][\"server_id\"] !== undefined) {\n      const bk_div = document.createElement(\"div\");\n      bk_div.innerHTML = output.data[HTML_MIME_TYPE];\n      const script_attrs = bk_div.children[0].attributes;\n      for (let i = 0; i < script_attrs.length; i++) {\n        toinsert[toinsert.length - 1].firstChild.setAttribute(script_attrs[i].name, script_attrs[i].value);\n        toinsert[toinsert.length - 1].firstChild.textContent = bk_div.children[0].textContent\n      }\n      // store reference to server id on output_area\n      output_area._bokeh_server_id = output.metadata[EXEC_MIME_TYPE][\"server_id\"];\n    }\n  }\n\n  function register_renderer(events, OutputArea) {\n\n    function append_mime(data, metadata, element) {\n      // create a DOM node to render to\n      const toinsert = this.create_output_subarea(\n        metadata,\n        CLASS_NAME,\n        EXEC_MIME_TYPE\n      );\n      this.keyboard_manager.register_events(toinsert);\n      // Render to node\n      const props = {data: data, metadata: metadata[EXEC_MIME_TYPE]};\n      render(props, toinsert[toinsert.length - 1]);\n      element.append(toinsert);\n      return toinsert\n    }\n\n    /* Handle when an output is cleared or removed */\n    events.on('clear_output.CodeCell', handleClearOutput);\n    events.on('delete.Cell', handleClearOutput);\n\n    /* Handle when a new output is added */\n    events.on('output_added.OutputArea', handleAddOutput);\n\n    /**\n     * Register the mime type and append_mime function with output_area\n     */\n    OutputArea.prototype.register_mime_type(EXEC_MIME_TYPE, append_mime, {\n      /* Is output safe? */\n      safe: true,\n      /* Index of renderer in `output_area.display_order` */\n      index: 0\n    });\n  }\n\n  // register the mime type if in Jupyter Notebook environment and previously unregistered\n  if (root.Jupyter !== undefined) {\n    const events = require('base/js/events');\n    const OutputArea = require('notebook/js/outputarea').OutputArea;\n\n    if (OutputArea.prototype.mime_types().indexOf(EXEC_MIME_TYPE) == -1) {\n      register_renderer(events, OutputArea);\n    }\n  }\n  if (typeof (root._bokeh_timeout) === \"undefined\" || force === true) {\n    root._bokeh_timeout = Date.now() + 5000;\n    root._bokeh_failed_load = false;\n  }\n\n  const NB_LOAD_WARNING = {'data': {'text/html':\n     \"<div style='background-color: #fdd'>\\n\"+\n     \"<p>\\n\"+\n     \"BokehJS does not appear to have successfully loaded. If loading BokehJS from CDN, this \\n\"+\n     \"may be due to a slow or bad network connection. Possible fixes:\\n\"+\n     \"</p>\\n\"+\n     \"<ul>\\n\"+\n     \"<li>re-rerun `output_notebook()` to attempt to load from CDN again, or</li>\\n\"+\n     \"<li>use INLINE resources instead, as so:</li>\\n\"+\n     \"</ul>\\n\"+\n     \"<code>\\n\"+\n     \"from bokeh.resources import INLINE\\n\"+\n     \"output_notebook(resources=INLINE)\\n\"+\n     \"</code>\\n\"+\n     \"</div>\"}};\n\n  function display_loaded() {\n    const el = document.getElementById(\"d9c9d6e9-7870-4ee2-9082-963c70069346\");\n    if (el != null) {\n      el.textContent = \"BokehJS is loading...\";\n    }\n    if (root.Bokeh !== undefined) {\n      if (el != null) {\n        el.textContent = \"BokehJS \" + root.Bokeh.version + \" successfully loaded.\";\n      }\n    } else if (Date.now() < root._bokeh_timeout) {\n      setTimeout(display_loaded, 100)\n    }\n  }\n\n  function run_callbacks() {\n    try {\n      root._bokeh_onload_callbacks.forEach(function(callback) {\n        if (callback != null)\n          callback();\n      });\n    } finally {\n      delete root._bokeh_onload_callbacks\n    }\n    console.debug(\"Bokeh: all callbacks have finished\");\n  }\n\n  function load_libs(css_urls, js_urls, callback) {\n    if (css_urls == null) css_urls = [];\n    if (js_urls == null) js_urls = [];\n\n    root._bokeh_onload_callbacks.push(callback);\n    if (root._bokeh_is_loading > 0) {\n      console.debug(\"Bokeh: BokehJS is being loaded, scheduling callback at\", now());\n      return null;\n    }\n    if (js_urls == null || js_urls.length === 0) {\n      run_callbacks();\n      return null;\n    }\n    console.debug(\"Bokeh: BokehJS not loaded, scheduling load and callback at\", now());\n    root._bokeh_is_loading = css_urls.length + js_urls.length;\n\n    function on_load() {\n      root._bokeh_is_loading--;\n      if (root._bokeh_is_loading === 0) {\n        console.debug(\"Bokeh: all BokehJS libraries/stylesheets loaded\");\n        run_callbacks()\n      }\n    }\n\n    function on_error(url) {\n      console.error(\"failed to load \" + url);\n    }\n\n    for (let i = 0; i < css_urls.length; i++) {\n      const url = css_urls[i];\n      const element = document.createElement(\"link\");\n      element.onload = on_load;\n      element.onerror = on_error.bind(null, url);\n      element.rel = \"stylesheet\";\n      element.type = \"text/css\";\n      element.href = url;\n      console.debug(\"Bokeh: injecting link tag for BokehJS stylesheet: \", url);\n      document.body.appendChild(element);\n    }\n\n    for (let i = 0; i < js_urls.length; i++) {\n      const url = js_urls[i];\n      const element = document.createElement('script');\n      element.onload = on_load;\n      element.onerror = on_error.bind(null, url);\n      element.async = false;\n      element.src = url;\n      console.debug(\"Bokeh: injecting script tag for BokehJS library: \", url);\n      document.head.appendChild(element);\n    }\n  };\n\n  function inject_raw_css(css) {\n    const element = document.createElement(\"style\");\n    element.appendChild(document.createTextNode(css));\n    document.body.appendChild(element);\n  }\n\n  const js_urls = [\"https://cdn.bokeh.org/bokeh/release/bokeh-3.2.1.min.js\", \"https://cdn.bokeh.org/bokeh/release/bokeh-gl-3.2.1.min.js\", \"https://cdn.bokeh.org/bokeh/release/bokeh-widgets-3.2.1.min.js\", \"https://cdn.bokeh.org/bokeh/release/bokeh-tables-3.2.1.min.js\", \"https://cdn.bokeh.org/bokeh/release/bokeh-mathjax-3.2.1.min.js\"];\n  const css_urls = [];\n\n  const inline_js = [    function(Bokeh) {\n      Bokeh.set_log_level(\"info\");\n    },\nfunction(Bokeh) {\n    }\n  ];\n\n  function run_inline_js() {\n    if (root.Bokeh !== undefined || force === true) {\n          for (let i = 0; i < inline_js.length; i++) {\n      inline_js[i].call(root, root.Bokeh);\n    }\nif (force === true) {\n        display_loaded();\n      }} else if (Date.now() < root._bokeh_timeout) {\n      setTimeout(run_inline_js, 100);\n    } else if (!root._bokeh_failed_load) {\n      console.log(\"Bokeh: BokehJS failed to load within specified timeout.\");\n      root._bokeh_failed_load = true;\n    } else if (force !== true) {\n      const cell = $(document.getElementById(\"d9c9d6e9-7870-4ee2-9082-963c70069346\")).parents('.cell').data().cell;\n      cell.output_area.append_execute_result(NB_LOAD_WARNING)\n    }\n  }\n\n  if (root._bokeh_is_loading === 0) {\n    console.debug(\"Bokeh: BokehJS loaded, going straight to plotting\");\n    run_inline_js();\n  } else {\n    load_libs(css_urls, js_urls, function() {\n      console.debug(\"Bokeh: BokehJS plotting callback run at\", now());\n      run_inline_js();\n    });\n  }\n}(window));",
      "application/vnd.bokehjs_load.v0+json": ""
     },
     "metadata": {},
     "output_type": "display_data"
    }
   ],
   "source": [
    "import plotly.graph_objects as go\n",
    "import plotly.express as px\n",
    "import pandas as pd\n",
    "import numpy as np\n",
    "import string\n",
    "from joblib import Parallel, delayed\n",
    "\n",
    "import numpy as np\n",
    "import pandas as pd\n",
    "\n",
    "from transformers import pipeline\n",
    "output_notebook()\n",
    "\n",
    "%matplotlib inline"
   ]
  },
  {
   "cell_type": "markdown",
   "metadata": {},
   "source": [
    "## 1) Data"
   ]
  },
  {
   "cell_type": "code",
   "execution_count": 7,
   "metadata": {},
   "outputs": [
    {
     "name": "stdout",
     "output_type": "stream",
     "text": [
      "Number of articles: 965\n"
     ]
    }
   ],
   "source": [
    "df = pd.read_json('./new_df/df_kws_article.json', orient='records')\n",
    "print(f'Number of articles: {df.shape[0]}')"
   ]
  },
  {
   "cell_type": "code",
   "execution_count": 8,
   "metadata": {},
   "outputs": [
    {
     "data": {
      "text/html": [
       "<div>\n",
       "<style scoped>\n",
       "    .dataframe tbody tr th:only-of-type {\n",
       "        vertical-align: middle;\n",
       "    }\n",
       "\n",
       "    .dataframe tbody tr th {\n",
       "        vertical-align: top;\n",
       "    }\n",
       "\n",
       "    .dataframe thead th {\n",
       "        text-align: right;\n",
       "    }\n",
       "</style>\n",
       "<table border=\"1\" class=\"dataframe\">\n",
       "  <thead>\n",
       "    <tr style=\"text-align: right;\">\n",
       "      <th></th>\n",
       "      <th>year</th>\n",
       "      <th>month</th>\n",
       "      <th>day</th>\n",
       "      <th>url</th>\n",
       "      <th>title</th>\n",
       "      <th>description</th>\n",
       "      <th>content</th>\n",
       "      <th>lang</th>\n",
       "      <th>kws</th>\n",
       "      <th>locations</th>\n",
       "      <th>miscellaneus</th>\n",
       "      <th>organizations</th>\n",
       "      <th>persons</th>\n",
       "      <th>domain</th>\n",
       "      <th>date</th>\n",
       "    </tr>\n",
       "  </thead>\n",
       "  <tbody>\n",
       "    <tr>\n",
       "      <th>0</th>\n",
       "      <td>2019</td>\n",
       "      <td>1</td>\n",
       "      <td>2</td>\n",
       "      <td>https://french.presstv.ir/Detail/2019/01/03/58...</td>\n",
       "      <td>Des terroristes de l'Armée syrienne libre envo...</td>\n",
       "      <td>Certains membres de l’Armée syrienne libre (AS...</td>\n",
       "      <td>Depuis que les Etats-Unis ont annoncé vouloir ...</td>\n",
       "      <td>fr</td>\n",
       "      <td>{'algérie': 10, 'afrique': 6, 'terroriste': 6,...</td>\n",
       "      <td>{'Etats-Unis': 4, 'France': 2, 'Syrie': 4, 'Al...</td>\n",
       "      <td>{}</td>\n",
       "      <td>{'Moyen-Orient': 2, 'ASL': 2, 'Daech': 2}</td>\n",
       "      <td>{}</td>\n",
       "      <td>french.presstv.ir</td>\n",
       "      <td>2019-01-02</td>\n",
       "    </tr>\n",
       "    <tr>\n",
       "      <th>1</th>\n",
       "      <td>2019</td>\n",
       "      <td>1</td>\n",
       "      <td>3</td>\n",
       "      <td>https://french.presstv.ir/Detail/2019/01/04/58...</td>\n",
       "      <td>Zoom Afrique du 4 janvier 2019</td>\n",
       "      <td>Au Soudan, les manifestations contre el-Béchir...</td>\n",
       "      <td>Dans ce numéro de Zoom Afrique : L’actualité e...</td>\n",
       "      <td>fr</td>\n",
       "      <td>{'niger': 4, 'occidental': 4, 'burkina': 3, 'p...</td>\n",
       "      <td>{'Niger': 2, 'Burkina Faso': 2}</td>\n",
       "      <td>{}</td>\n",
       "      <td>{}</td>\n",
       "      <td>{'el-Béchir': 2}</td>\n",
       "      <td>french.presstv.ir</td>\n",
       "      <td>2019-01-03</td>\n",
       "    </tr>\n",
       "    <tr>\n",
       "      <th>2</th>\n",
       "      <td>2019</td>\n",
       "      <td>1</td>\n",
       "      <td>3</td>\n",
       "      <td>https://french.presstv.ir/Detail/2019/01/04/58...</td>\n",
       "      <td>Les terroristes veulent déstabiliser l’Algérie</td>\n",
       "      <td>Selon un expert algérien, certains pays arabes...</td>\n",
       "      <td>Retour à la case départ: après avoir perdu la ...</td>\n",
       "      <td>fr</td>\n",
       "      <td>{'terroriste': 10, 'algérie': 9, 'pays': 5, 'g...</td>\n",
       "      <td>{'Syrie': 4, 'États-Unis': 3, 'Arabie saoudite...</td>\n",
       "      <td>{}</td>\n",
       "      <td>{}</td>\n",
       "      <td>{}</td>\n",
       "      <td>french.presstv.ir</td>\n",
       "      <td>2019-01-03</td>\n",
       "    </tr>\n",
       "    <tr>\n",
       "      <th>3</th>\n",
       "      <td>2019</td>\n",
       "      <td>1</td>\n",
       "      <td>4</td>\n",
       "      <td>https://french.presstv.ir/Detail/2019/01/05/58...</td>\n",
       "      <td>Zoom Afrique du 5 janvier 2019</td>\n",
       "      <td>Les USA envahissent le Gabon sur le dos d’Ali ...</td>\n",
       "      <td>Dans ce numéro de Zoom Afrique : L’actualité e...</td>\n",
       "      <td>fr</td>\n",
       "      <td>{'état': 11, 'rdc': 11, 'bénin': 10, 'france':...</td>\n",
       "      <td>{'Afrique': 4, 'Bénin': 10, 'Chine': 6, 'golfe...</td>\n",
       "      <td>{}</td>\n",
       "      <td>{'Azawad': 2}</td>\n",
       "      <td>{'MSC Mandy': 3, 'Bongo': 2}</td>\n",
       "      <td>french.presstv.ir</td>\n",
       "      <td>2019-01-04</td>\n",
       "    </tr>\n",
       "    <tr>\n",
       "      <th>4</th>\n",
       "      <td>2019</td>\n",
       "      <td>1</td>\n",
       "      <td>5</td>\n",
       "      <td>https://french.presstv.ir/Detail/2019/01/06/58...</td>\n",
       "      <td>Zoom Afrique du 6 janvier 2019</td>\n",
       "      <td>Bientôt un assaut contre la Côte d’Ivoire ?</td>\n",
       "      <td>Dans ce numéro de Zoom Afrique : L’actualité e...</td>\n",
       "      <td>fr</td>\n",
       "      <td>{'communauté': 9, 'pays': 7, 'burkina': 7, 'fa...</td>\n",
       "      <td>{'États-Unis': 2, 'Côte d’Ivoire': 4, 'Côte d'...</td>\n",
       "      <td>{}</td>\n",
       "      <td>{}</td>\n",
       "      <td>{'Manuel Chang': 3}</td>\n",
       "      <td>french.presstv.ir</td>\n",
       "      <td>2019-01-05</td>\n",
       "    </tr>\n",
       "  </tbody>\n",
       "</table>\n",
       "</div>"
      ],
      "text/plain": [
       "   year  month  day                                                url  \\\n",
       "0  2019      1    2  https://french.presstv.ir/Detail/2019/01/03/58...   \n",
       "1  2019      1    3  https://french.presstv.ir/Detail/2019/01/04/58...   \n",
       "2  2019      1    3  https://french.presstv.ir/Detail/2019/01/04/58...   \n",
       "3  2019      1    4  https://french.presstv.ir/Detail/2019/01/05/58...   \n",
       "4  2019      1    5  https://french.presstv.ir/Detail/2019/01/06/58...   \n",
       "\n",
       "                                               title  \\\n",
       "0  Des terroristes de l'Armée syrienne libre envo...   \n",
       "1                     Zoom Afrique du 4 janvier 2019   \n",
       "2     Les terroristes veulent déstabiliser l’Algérie   \n",
       "3                     Zoom Afrique du 5 janvier 2019   \n",
       "4                     Zoom Afrique du 6 janvier 2019   \n",
       "\n",
       "                                         description  \\\n",
       "0  Certains membres de l’Armée syrienne libre (AS...   \n",
       "1  Au Soudan, les manifestations contre el-Béchir...   \n",
       "2  Selon un expert algérien, certains pays arabes...   \n",
       "3  Les USA envahissent le Gabon sur le dos d’Ali ...   \n",
       "4        Bientôt un assaut contre la Côte d’Ivoire ?   \n",
       "\n",
       "                                             content lang  \\\n",
       "0  Depuis que les Etats-Unis ont annoncé vouloir ...   fr   \n",
       "1  Dans ce numéro de Zoom Afrique : L’actualité e...   fr   \n",
       "2  Retour à la case départ: après avoir perdu la ...   fr   \n",
       "3  Dans ce numéro de Zoom Afrique : L’actualité e...   fr   \n",
       "4  Dans ce numéro de Zoom Afrique : L’actualité e...   fr   \n",
       "\n",
       "                                                 kws  \\\n",
       "0  {'algérie': 10, 'afrique': 6, 'terroriste': 6,...   \n",
       "1  {'niger': 4, 'occidental': 4, 'burkina': 3, 'p...   \n",
       "2  {'terroriste': 10, 'algérie': 9, 'pays': 5, 'g...   \n",
       "3  {'état': 11, 'rdc': 11, 'bénin': 10, 'france':...   \n",
       "4  {'communauté': 9, 'pays': 7, 'burkina': 7, 'fa...   \n",
       "\n",
       "                                           locations miscellaneus  \\\n",
       "0  {'Etats-Unis': 4, 'France': 2, 'Syrie': 4, 'Al...           {}   \n",
       "1                    {'Niger': 2, 'Burkina Faso': 2}           {}   \n",
       "2  {'Syrie': 4, 'États-Unis': 3, 'Arabie saoudite...           {}   \n",
       "3  {'Afrique': 4, 'Bénin': 10, 'Chine': 6, 'golfe...           {}   \n",
       "4  {'États-Unis': 2, 'Côte d’Ivoire': 4, 'Côte d'...           {}   \n",
       "\n",
       "                               organizations                       persons  \\\n",
       "0  {'Moyen-Orient': 2, 'ASL': 2, 'Daech': 2}                            {}   \n",
       "1                                         {}              {'el-Béchir': 2}   \n",
       "2                                         {}                            {}   \n",
       "3                              {'Azawad': 2}  {'MSC Mandy': 3, 'Bongo': 2}   \n",
       "4                                         {}           {'Manuel Chang': 3}   \n",
       "\n",
       "              domain       date  \n",
       "0  french.presstv.ir 2019-01-02  \n",
       "1  french.presstv.ir 2019-01-03  \n",
       "2  french.presstv.ir 2019-01-03  \n",
       "3  french.presstv.ir 2019-01-04  \n",
       "4  french.presstv.ir 2019-01-05  "
      ]
     },
     "execution_count": 8,
     "metadata": {},
     "output_type": "execute_result"
    }
   ],
   "source": [
    "df['date'] = pd.to_datetime(df[['year', 'month', 'day']])\n",
    "df.head(5)"
   ]
  },
  {
   "cell_type": "code",
   "execution_count": 9,
   "metadata": {},
   "outputs": [
    {
     "name": "stdout",
     "output_type": "stream",
     "text": [
      "Number of articles: 965\n"
     ]
    }
   ],
   "source": [
    "numberArticles = df.shape[0]\n",
    "print(f'Number of articles: {numberArticles}')"
   ]
  },
  {
   "cell_type": "code",
   "execution_count": 10,
   "metadata": {},
   "outputs": [
    {
     "name": "stdout",
     "output_type": "stream",
     "text": [
      "number None type in description: 0\n"
     ]
    }
   ],
   "source": [
    "none_count = df['description'].isna().sum()\n",
    "print(f\"number None type in description: {none_count}\")\n",
    "# print(f'Porcentage of None value in total: {100*none_count/df.shape[0]:.2f} %')\n",
    "\n",
    "# df = df.dropna(subset=['description'])"
   ]
  },
  {
   "cell_type": "markdown",
   "metadata": {},
   "source": [
    "### 1.1) Text Cleaning "
   ]
  },
  {
   "cell_type": "code",
   "execution_count": 11,
   "metadata": {},
   "outputs": [
    {
     "data": {
      "text/html": [
       "<div>\n",
       "<style scoped>\n",
       "    .dataframe tbody tr th:only-of-type {\n",
       "        vertical-align: middle;\n",
       "    }\n",
       "\n",
       "    .dataframe tbody tr th {\n",
       "        vertical-align: top;\n",
       "    }\n",
       "\n",
       "    .dataframe thead th {\n",
       "        text-align: right;\n",
       "    }\n",
       "</style>\n",
       "<table border=\"1\" class=\"dataframe\">\n",
       "  <thead>\n",
       "    <tr style=\"text-align: right;\">\n",
       "      <th></th>\n",
       "      <th>year</th>\n",
       "      <th>month</th>\n",
       "      <th>day</th>\n",
       "      <th>url</th>\n",
       "      <th>title</th>\n",
       "      <th>description</th>\n",
       "      <th>content</th>\n",
       "      <th>lang</th>\n",
       "      <th>kws</th>\n",
       "      <th>locations</th>\n",
       "      <th>miscellaneus</th>\n",
       "      <th>organizations</th>\n",
       "      <th>persons</th>\n",
       "      <th>domain</th>\n",
       "      <th>date</th>\n",
       "      <th>CleanedData</th>\n",
       "    </tr>\n",
       "  </thead>\n",
       "  <tbody>\n",
       "    <tr>\n",
       "      <th>0</th>\n",
       "      <td>2019</td>\n",
       "      <td>1</td>\n",
       "      <td>2</td>\n",
       "      <td>https://french.presstv.ir/Detail/2019/01/03/58...</td>\n",
       "      <td>Des terroristes de l'Armée syrienne libre envo...</td>\n",
       "      <td>Certains membres de l’Armée syrienne libre (AS...</td>\n",
       "      <td>Depuis que les Etats-Unis ont annoncé vouloir ...</td>\n",
       "      <td>fr</td>\n",
       "      <td>{'algérie': 10, 'afrique': 6, 'terroriste': 6,...</td>\n",
       "      <td>{'Etats-Unis': 4, 'France': 2, 'Syrie': 4, 'Al...</td>\n",
       "      <td>{}</td>\n",
       "      <td>{'Moyen-Orient': 2, 'ASL': 2, 'Daech': 2}</td>\n",
       "      <td>{}</td>\n",
       "      <td>french.presstv.ir</td>\n",
       "      <td>2019-01-02</td>\n",
       "      <td>depuis que les etatsunis ont annoncé vouloir c...</td>\n",
       "    </tr>\n",
       "    <tr>\n",
       "      <th>1</th>\n",
       "      <td>2019</td>\n",
       "      <td>1</td>\n",
       "      <td>3</td>\n",
       "      <td>https://french.presstv.ir/Detail/2019/01/04/58...</td>\n",
       "      <td>Zoom Afrique du 4 janvier 2019</td>\n",
       "      <td>Au Soudan, les manifestations contre el-Béchir...</td>\n",
       "      <td>Dans ce numéro de Zoom Afrique : L’actualité e...</td>\n",
       "      <td>fr</td>\n",
       "      <td>{'niger': 4, 'occidental': 4, 'burkina': 3, 'p...</td>\n",
       "      <td>{'Niger': 2, 'Burkina Faso': 2}</td>\n",
       "      <td>{}</td>\n",
       "      <td>{}</td>\n",
       "      <td>{'el-Béchir': 2}</td>\n",
       "      <td>french.presstv.ir</td>\n",
       "      <td>2019-01-03</td>\n",
       "      <td>dans ce numéro de zoom afrique  l’actualité en...</td>\n",
       "    </tr>\n",
       "    <tr>\n",
       "      <th>2</th>\n",
       "      <td>2019</td>\n",
       "      <td>1</td>\n",
       "      <td>3</td>\n",
       "      <td>https://french.presstv.ir/Detail/2019/01/04/58...</td>\n",
       "      <td>Les terroristes veulent déstabiliser l’Algérie</td>\n",
       "      <td>Selon un expert algérien, certains pays arabes...</td>\n",
       "      <td>Retour à la case départ: après avoir perdu la ...</td>\n",
       "      <td>fr</td>\n",
       "      <td>{'terroriste': 10, 'algérie': 9, 'pays': 5, 'g...</td>\n",
       "      <td>{'Syrie': 4, 'États-Unis': 3, 'Arabie saoudite...</td>\n",
       "      <td>{}</td>\n",
       "      <td>{}</td>\n",
       "      <td>{}</td>\n",
       "      <td>french.presstv.ir</td>\n",
       "      <td>2019-01-03</td>\n",
       "      <td>retour à la case départ après avoir perdu la g...</td>\n",
       "    </tr>\n",
       "    <tr>\n",
       "      <th>3</th>\n",
       "      <td>2019</td>\n",
       "      <td>1</td>\n",
       "      <td>4</td>\n",
       "      <td>https://french.presstv.ir/Detail/2019/01/05/58...</td>\n",
       "      <td>Zoom Afrique du 5 janvier 2019</td>\n",
       "      <td>Les USA envahissent le Gabon sur le dos d’Ali ...</td>\n",
       "      <td>Dans ce numéro de Zoom Afrique : L’actualité e...</td>\n",
       "      <td>fr</td>\n",
       "      <td>{'état': 11, 'rdc': 11, 'bénin': 10, 'france':...</td>\n",
       "      <td>{'Afrique': 4, 'Bénin': 10, 'Chine': 6, 'golfe...</td>\n",
       "      <td>{}</td>\n",
       "      <td>{'Azawad': 2}</td>\n",
       "      <td>{'MSC Mandy': 3, 'Bongo': 2}</td>\n",
       "      <td>french.presstv.ir</td>\n",
       "      <td>2019-01-04</td>\n",
       "      <td>dans ce numéro de zoom afrique  l’actualité en...</td>\n",
       "    </tr>\n",
       "    <tr>\n",
       "      <th>4</th>\n",
       "      <td>2019</td>\n",
       "      <td>1</td>\n",
       "      <td>5</td>\n",
       "      <td>https://french.presstv.ir/Detail/2019/01/06/58...</td>\n",
       "      <td>Zoom Afrique du 6 janvier 2019</td>\n",
       "      <td>Bientôt un assaut contre la Côte d’Ivoire ?</td>\n",
       "      <td>Dans ce numéro de Zoom Afrique : L’actualité e...</td>\n",
       "      <td>fr</td>\n",
       "      <td>{'communauté': 9, 'pays': 7, 'burkina': 7, 'fa...</td>\n",
       "      <td>{'États-Unis': 2, 'Côte d’Ivoire': 4, 'Côte d'...</td>\n",
       "      <td>{}</td>\n",
       "      <td>{}</td>\n",
       "      <td>{'Manuel Chang': 3}</td>\n",
       "      <td>french.presstv.ir</td>\n",
       "      <td>2019-01-05</td>\n",
       "      <td>dans ce numéro de zoom afrique  l’actualité en...</td>\n",
       "    </tr>\n",
       "  </tbody>\n",
       "</table>\n",
       "</div>"
      ],
      "text/plain": [
       "   year  month  day                                                url  \\\n",
       "0  2019      1    2  https://french.presstv.ir/Detail/2019/01/03/58...   \n",
       "1  2019      1    3  https://french.presstv.ir/Detail/2019/01/04/58...   \n",
       "2  2019      1    3  https://french.presstv.ir/Detail/2019/01/04/58...   \n",
       "3  2019      1    4  https://french.presstv.ir/Detail/2019/01/05/58...   \n",
       "4  2019      1    5  https://french.presstv.ir/Detail/2019/01/06/58...   \n",
       "\n",
       "                                               title  \\\n",
       "0  Des terroristes de l'Armée syrienne libre envo...   \n",
       "1                     Zoom Afrique du 4 janvier 2019   \n",
       "2     Les terroristes veulent déstabiliser l’Algérie   \n",
       "3                     Zoom Afrique du 5 janvier 2019   \n",
       "4                     Zoom Afrique du 6 janvier 2019   \n",
       "\n",
       "                                         description  \\\n",
       "0  Certains membres de l’Armée syrienne libre (AS...   \n",
       "1  Au Soudan, les manifestations contre el-Béchir...   \n",
       "2  Selon un expert algérien, certains pays arabes...   \n",
       "3  Les USA envahissent le Gabon sur le dos d’Ali ...   \n",
       "4        Bientôt un assaut contre la Côte d’Ivoire ?   \n",
       "\n",
       "                                             content lang  \\\n",
       "0  Depuis que les Etats-Unis ont annoncé vouloir ...   fr   \n",
       "1  Dans ce numéro de Zoom Afrique : L’actualité e...   fr   \n",
       "2  Retour à la case départ: après avoir perdu la ...   fr   \n",
       "3  Dans ce numéro de Zoom Afrique : L’actualité e...   fr   \n",
       "4  Dans ce numéro de Zoom Afrique : L’actualité e...   fr   \n",
       "\n",
       "                                                 kws  \\\n",
       "0  {'algérie': 10, 'afrique': 6, 'terroriste': 6,...   \n",
       "1  {'niger': 4, 'occidental': 4, 'burkina': 3, 'p...   \n",
       "2  {'terroriste': 10, 'algérie': 9, 'pays': 5, 'g...   \n",
       "3  {'état': 11, 'rdc': 11, 'bénin': 10, 'france':...   \n",
       "4  {'communauté': 9, 'pays': 7, 'burkina': 7, 'fa...   \n",
       "\n",
       "                                           locations miscellaneus  \\\n",
       "0  {'Etats-Unis': 4, 'France': 2, 'Syrie': 4, 'Al...           {}   \n",
       "1                    {'Niger': 2, 'Burkina Faso': 2}           {}   \n",
       "2  {'Syrie': 4, 'États-Unis': 3, 'Arabie saoudite...           {}   \n",
       "3  {'Afrique': 4, 'Bénin': 10, 'Chine': 6, 'golfe...           {}   \n",
       "4  {'États-Unis': 2, 'Côte d’Ivoire': 4, 'Côte d'...           {}   \n",
       "\n",
       "                               organizations                       persons  \\\n",
       "0  {'Moyen-Orient': 2, 'ASL': 2, 'Daech': 2}                            {}   \n",
       "1                                         {}              {'el-Béchir': 2}   \n",
       "2                                         {}                            {}   \n",
       "3                              {'Azawad': 2}  {'MSC Mandy': 3, 'Bongo': 2}   \n",
       "4                                         {}           {'Manuel Chang': 3}   \n",
       "\n",
       "              domain       date  \\\n",
       "0  french.presstv.ir 2019-01-02   \n",
       "1  french.presstv.ir 2019-01-03   \n",
       "2  french.presstv.ir 2019-01-03   \n",
       "3  french.presstv.ir 2019-01-04   \n",
       "4  french.presstv.ir 2019-01-05   \n",
       "\n",
       "                                         CleanedData  \n",
       "0  depuis que les etatsunis ont annoncé vouloir c...  \n",
       "1  dans ce numéro de zoom afrique  l’actualité en...  \n",
       "2  retour à la case départ après avoir perdu la g...  \n",
       "3  dans ce numéro de zoom afrique  l’actualité en...  \n",
       "4  dans ce numéro de zoom afrique  l’actualité en...  "
      ]
     },
     "execution_count": 11,
     "metadata": {},
     "output_type": "execute_result"
    }
   ],
   "source": [
    "df['CleanedData']=df['content'].str.lower()\n",
    "\n",
    "# Remove punctuation from the 'description' column\n",
    "df['CleanedData'] = df['CleanedData'].str.replace('[{}]'.format(string.punctuation), '', regex=True)\n",
    "df.head(5)"
   ]
  },
  {
   "cell_type": "markdown",
   "metadata": {},
   "source": [
    "### 1.2) Text concat "
   ]
  },
  {
   "cell_type": "code",
   "execution_count": 12,
   "metadata": {},
   "outputs": [],
   "source": [
    " # Create an empty list to store the combined texts\n",
    " combined_texts = []\n",
    " # Iterate over the rows in the DataFrame\n",
    " for index, row in df.iterrows():\n",
    "     # Combine words and counts from all the columns\n",
    "     all_words = {}\n",
    "     for col in ['kws', 'miscellaneus', 'locations', 'organizations', 'persons']:\n",
    "        for word, count in row[col].items():\n",
    "             if word in all_words:\n",
    "                 all_words[word] += count\n",
    "             else:\n",
    "                 all_words[word] = count\n",
    "   \n",
    "     # Generate the combined text\n",
    "     combined_text = ' '.join([f'{word} ' * count for word, count in all_words.items()])\n",
    "   \n",
    "     # Append the combined text to the list\n",
    "     combined_texts.append(combined_text)\n",
    "\n",
    " # Add the combined text as a new column in the DataFrame\n",
    " df['combined_text_kws'] = combined_texts"
   ]
  },
  {
   "cell_type": "markdown",
   "metadata": {},
   "source": [
    "## 2) Labelisation"
   ]
  },
  {
   "cell_type": "code",
   "execution_count": 13,
   "metadata": {},
   "outputs": [
    {
     "name": "stdout",
     "output_type": "stream",
     "text": [
      "WARNING:tensorflow:From c:\\Users\\Carlos Andres Cortes\\anaconda3\\Lib\\site-packages\\keras\\src\\backend.py:873: The name tf.get_default_graph is deprecated. Please use tf.compat.v1.get_default_graph instead.\n",
      "\n"
     ]
    },
    {
     "name": "stderr",
     "output_type": "stream",
     "text": [
      "Some weights of the PyTorch model were not used when initializing the TF 2.0 model TFDebertaV2ForSequenceClassification: ['deberta.embeddings.position_ids']\n",
      "- This IS expected if you are initializing TFDebertaV2ForSequenceClassification from a PyTorch model trained on another task or with another architecture (e.g. initializing a TFBertForSequenceClassification model from a BertForPreTraining model).\n",
      "- This IS NOT expected if you are initializing TFDebertaV2ForSequenceClassification from a PyTorch model that you expect to be exactly identical (e.g. initializing a TFBertForSequenceClassification model from a BertForSequenceClassification model).\n",
      "All the weights of TFDebertaV2ForSequenceClassification were initialized from the PyTorch model.\n",
      "If your task is similar to the task the model of the checkpoint was trained on, you can already use TFDebertaV2ForSequenceClassification for predictions without further training.\n",
      "c:\\Users\\Carlos Andres Cortes\\anaconda3\\Lib\\site-packages\\transformers\\convert_slow_tokenizer.py:470: UserWarning: The sentencepiece tokenizer that you are converting to a fast tokenizer uses the byte fallback option which is not implemented in the fast tokenizers. In practice this means that the fast version of the tokenizer can produce unknown tokens whereas the sentencepiece version would have converted these unknown tokens into a sequence of byte tokens matching the original piece of text.\n",
      "  warnings.warn(\n"
     ]
    }
   ],
   "source": [
    "classifier = pipeline(\"zero-shot-classification\", model=\"MoritzLaurer/DeBERTa-v3-base-mnli-fever-anli\")\n"
   ]
  },
  {
   "cell_type": "code",
   "execution_count": 14,
   "metadata": {},
   "outputs": [],
   "source": [
    "candidate_labels = [\"war\", \"politics\", \"Health\", \"police\"]\n",
    "\n",
    "def get_labels(content: str) -> list:\n",
    "    # Create the classifier object inside the function\n",
    "    classifier = pipeline(\"zero-shot-classification\", model=\"MoritzLaurer/DeBERTa-v3-base-mnli-fever-anli\")\n",
    "    output = classifier(content, candidate_labels, multi_label=True)\n",
    "    return output['scores']"
   ]
  },
  {
   "cell_type": "code",
   "execution_count": 10,
   "metadata": {},
   "outputs": [],
   "source": [
    "\n",
    "# sequence_to_classify = \"Les parties qui s’attendaient à ce que le Hirak se transforme en un vecteur de division, de violence et d’instabilité sont diablement déçues. Plus de sept mois après le début du mouvement, l’armée algérienne a tenu sa promesse : elle a protégé le peuple tout en cherchant à satisfaire du mieux qu’elle peut ses aspirations à plus de liberté et à une répartition plus égalitaire des richesses. Le chef d’état-major, Gaid Salah, peut se targuer de n’avoir à déplorer aucun mort, ni blessé grave, ni œil crevé, ni main arrachée en sept mois de protestation. Or cette performance intrigue et met en colère des parties qui espéraient voir l’Algérie tomber dans le chaos. Ce sont les mêmes parties qui ont embrasé la Libye, qui enflamment le Mali et qui ont récemment piloté une tentative de coup d’État en Tunisie. Mais en Algérie, l’armée est bien vigilante. Une cellule terroriste vient d’être démantelée, cellule composée visiblement d’agents étrangers. Des Israéliens ? Possible... Les autorités algériennes déclarent avoir neutralisé cinq extrémistes dangereux chargés de concevoir des opérations terroristes dans le pays. L’armée algérienne a annoncé ce dimanche 14 juillet avoir arrêté cinq personnes qui envisageaient de mener des opérations terroristes contre les manifestants pacifiques. Des opérations antiterroristes menées entre le 3 et le 7 juillet dans la région de Batna (400 km au sud-est d’Alger) ont conduit à l’arrestation de cinq terroristes opérant dans cette région, a indiqué le ministère algérien de la Défense, dans un communiqué cité par la chaîne al-Mayadeen. Ces personnes planifiaient de perpétrer des attentats avec des bombes artisanales contre les manifestants pacifiques à travers différentes régions du pays, a ajouté le ministère. L’Algérie est le théâtre depuis février d’un mouvement populaire de contestation qui a poussé le président Abdelaziz Bouteflika à la démission le 2 avril. Les manifestants exigent désormais le départ de tous les dirigeants ayant eu des responsabilités durant les 20 ans de présidence de Abdelaziz Bouteflika. Pour le 21e vendredi consécutif, les Algériens sont descendus dans la rue le 12 juillet. Alors que l’élection présidentielle prévue le 4 juillet a été annulée, faute de candidats, et que le mandat du président par intérim s’achève, un pouvoir algérien opaque, aux yeux des manifestants, mais toujours aux commandes, s’efforce d’organiser une transition qui soit à son avantage. Mais les manifestations de rue se poursuivent, dans un climat de menace grandissante. Un gouvernement civil, pas un État militaire, tel était le slogan des manifestants en réponse à la déclaration du général Ahmed Gaïd Salah, le chef d’état-major des armées, qui a déclaré mardi dernier que ceux qui scandent ce slogan ont des pensées empoisonnées.\"\n",
    "# candidate_labels = [\"war\", \"politic\" , \"economic\"]\n",
    "# output = classifier(sequence_to_classify, candidate_labels, multi_label=True)\n",
    "# rint(output['labels'])\n",
    "# int(output['scores'])"
   ]
  },
  {
   "cell_type": "code",
   "execution_count": 8,
   "metadata": {},
   "outputs": [
    {
     "name": "stderr",
     "output_type": "stream",
     "text": [
      "c:\\Users\\Carlos Andres Cortes\\anaconda3\\Lib\\site-packages\\joblib\\externals\\loky\\process_executor.py:700: UserWarning: A worker stopped while some jobs were given to the executor. This can be caused by a too short worker timeout or by a memory leak.\n",
      "  warnings.warn(\n"
     ]
    }
   ],
   "source": [
    "# Define the number of parallel processes\n",
    "num_processes = 3  # Adjust this based on your system's capabilities\n",
    "\n",
    "# Use joblib to parallelize the computation\n",
    "df['scores'] = Parallel(n_jobs=num_processes)(\n",
    "    delayed(get_labels)(row['combined_text_kws'])\n",
    "    for _, row in df.iterrows()\n",
    ")"
   ]
  },
  {
   "cell_type": "code",
   "execution_count": null,
   "metadata": {},
   "outputs": [],
   "source": [
    "#df['scores'] = df.apply(lambda x: get_labels(x['CleanedData'], classifier, candidate_labels), axis=1)"
   ]
  },
  {
   "cell_type": "code",
   "execution_count": null,
   "metadata": {},
   "outputs": [],
   "source": [
    "df.head(5)"
   ]
  }
 ],
 "metadata": {
  "kernelspec": {
   "display_name": "base",
   "language": "python",
   "name": "python3"
  },
  "language_info": {
   "codemirror_mode": {
    "name": "ipython",
    "version": 3
   },
   "file_extension": ".py",
   "mimetype": "text/x-python",
   "name": "python",
   "nbconvert_exporter": "python",
   "pygments_lexer": "ipython3",
   "version": "3.11.4"
  }
 },
 "nbformat": 4,
 "nbformat_minor": 2
}
